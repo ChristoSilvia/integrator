{
 "cells": [
  {
   "cell_type": "markdown",
   "metadata": {},
   "source": [
    "## Rigid Body Simulation\n",
    "\n",
    "I'll admit, I kind of let this one get away from me, and I overbuilt it substantially.  I've been waiting a long time for an excuse to build an adaptive step size integrator with stopping conditions built in, so this is just the right occasion.  I am not going to use the $dt=0.001$ condition, I'm going to be bounding the estimated error per step to be no greater than $1 \\times 10^{-9}$.\n",
    "\n",
    "The integrator is a dormand-prince integrator with an adaptive step size.  The adaptive step size works on the general principle that with an nth order method, a decrease in step size will produce the following decrease in error:\n",
    "\n",
    "\\begin{align}\n",
    "\\frac{E_\\text{new}}{E_\\text{old}} & = \\left( \\frac{dx_\\text{new}}{dx_\\text{old}} \\right)^n\n",
    "\\end{align}\n",
    "\n",
    "Based on this principle, if we have a desired amount of error for each step, and using our step method, we get an estimate for the error we incurred, we can find an \"ideal step size\" that would have gotten exactly the amount of error that we want:\n"
   ]
  },
  {
   "cell_type": "markdown",
   "metadata": {},
   "source": [
    "\\begin{align}\n",
    "\\frac{dx_\\text{ideal}}{dx_\\text{old}} & = \\left( \\frac{E_\\text{ideal}}{E_\\text{old}} \\right)^\\frac{1}{n}\n",
    "\\end{align}"
   ]
  },
  {
   "cell_type": "markdown",
   "metadata": {},
   "source": [
    "Thus, if our step incurs too little error, we take our integration to be overly cautious, and for the next step, we increase our step to the ideal step size we found.  If, however, our step incurs too much error, we reject that step and make a new step with the ideal step size which we calculated."
   ]
  },
  {
   "cell_type": "code",
   "execution_count": 201,
   "metadata": {
    "collapsed": false
   },
   "outputs": [],
   "source": [
    "import numpy as np\n",
    "import matplotlib.pyplot as plt\n",
    "from scipy.interpolate import interp1d\n",
    "%matplotlib inline"
   ]
  },
  {
   "cell_type": "code",
   "execution_count": 9,
   "metadata": {
    "collapsed": true
   },
   "outputs": [],
   "source": [
    "def dormand_prince_iteration(f, y0, t, dt, args=()):\n",
    "    \"\"\" f(y,t) gives the derivative of y at t\n",
    "        Given y(t), this function gets a 5th order\n",
    "            approximation to y(t + dt).\n",
    "        It also gives a 6th order error estimate.\n",
    "        Coefficients from wikipedia.\"\"\"\n",
    "    k1 = f(y0,t, *args)\n",
    "    k2 = f(y0+dt*(k1/5), t+0.2*dt, *args)\n",
    "    k3 = f(y0+dt*(3*k1/40 + 9*k2/40), t+0.3*dt, *args)\n",
    "    k4 = f(y0+dt*(44*k1/45 - 56*k2/15 + 32*k3/9 ), t+0.8*dt, *args)\n",
    "    k5 = f(y0+dt*(19372*k1/6561 - 25360*k2/2187 + 64448*k3/6561 - 212*k4/729), t+8*dt/9, *args)\n",
    "    k6 = f(y0+dt*(9017*k1/3168 - 355*k2/33 + 46732*k3/5247 + 49*k4/176 - 5103*k5/18656),t+dt, *args)\n",
    "    k7 = f(y0+dt*(35*k1/384 + 500*k3/1113 + 125*k4/192 - 2187*k5/6784 + 11*k6/84), t+dt, *args)\n",
    "    yf = dt*(35*k1/384 + 500*k3/1113 + 125*k4/192 - 2187*k5/6784 + 11*k6/84)\n",
    "    other_est = dt*(5179*k1/57600 + 7571*k3/16695 + 393*k4/640 - 92097*k5/339200 + 187*k6/2100 + k7/40)\n",
    "    return yf, (yf - other_est)"
   ]
  },
  {
   "cell_type": "code",
   "execution_count": 181,
   "metadata": {
    "collapsed": true
   },
   "outputs": [],
   "source": [
    "def minimize(f, t0, tf, f0, ff, tol):\n",
    "    \"\"\" Given a function which is of one sign at the beginning\n",
    "        of an interval, and the opposite sign at the end,\n",
    "        this function uses linear approximations to refine\n",
    "        the zero estimate.\"\"\"\n",
    "    tmid = (t0*ff - tf*f0)/(ff-f0)\n",
    "    fmid = f(tmid)\n",
    "    while np.abs(fmid) > tol:\n",
    "        if fmid >= tol:\n",
    "            t0 = tmid\n",
    "            f0 = fmid\n",
    "        elif fmid <= tol:\n",
    "            tf = tmid\n",
    "            ff = fmid\n",
    "        tmid = (t0*ff - tf*f0)/(ff-f0)\n",
    "        fmid = f(tmid)\n",
    "        \n",
    "    return tmid"
   ]
  },
  {
   "cell_type": "code",
   "execution_count": 262,
   "metadata": {
    "collapsed": false
   },
   "outputs": [],
   "source": [
    "def integrator(f, y0, tf, \n",
    "               args=(),\n",
    "               stepsize=None,\n",
    "               stopfunc=None,\n",
    "               stopargs=(),\n",
    "               step_error_tolerance=1e-8,\n",
    "               stop_error_tolerance=1e-8,\n",
    "               iteration=dormand_prince_iteration,\n",
    "               method_order=5, maxits=1000, \n",
    "               output=False, return_error=False):\n",
    "    \"\"\"This function integrates a function from 0 to tf.\n",
    "    This integration uses an adaptive step size,\n",
    "    and tries to bound the error incurred per step.\n",
    "    The function uses as a default a 5th order\n",
    "    dormand prince iteration.\n",
    "    \n",
    "    The integration can be stopped with a stopfunc(),\n",
    "    which should be positive when the integration should\n",
    "    continue and zero at the point where you want it to stop.\"\"\"\n",
    "    \n",
    "    if stepsize == None:\n",
    "        stepsize=tf/100\n",
    "        \n",
    "    exponent = 1.0/method_order\n",
    "    y = [y0]\n",
    "    t = [0.0]\n",
    "    nit = 0\n",
    "    \n",
    "    if return_error:\n",
    "        errors = [0.0]\n",
    "        \n",
    "    while (t[-1] < tf) and (nit < maxits):\n",
    "        nit += 1\n",
    "        if output:\n",
    "            print(\"Time: {0}\".format(t[-1]))\n",
    "        if t[-1] + stepsize > tf:\n",
    "            stepsize = tf - t[-1]\n",
    "\n",
    "        l_inf_err = float('inf')\n",
    "        new_stepsize = stepsize\n",
    "        while (l_inf_err >= step_error_tolerance) and (nit < maxits):\n",
    "            nit += 1\n",
    "            delta_yf, err = iteration(f, y[-1], t[-1], new_stepsize, args=args)\n",
    "            stepsize = new_stepsize\n",
    "            # we can use the scaling law to get the \"ideal\" error step\n",
    "            l_inf_err = np.max(np.abs(err))\n",
    "            if output:\n",
    "                print(\"Got {} error with {} stepsize\".format(l_inf_err, new_stepsize))\n",
    "            new_stepsize = new_stepsize*((0.8*step_error_tolerance)/l_inf_err)**exponent\n",
    "        \n",
    "        # we know that stopfunc(x_{i-1}) > 0, so,\n",
    "        #     if stopfunc(x_i) < 0, we can try to get a\n",
    "        #     zero here.\n",
    "        # we also know that an integration of the current\n",
    "        #     stepsize achieves the error tolerances,\n",
    "        #     so we don't have to worry about error tolerances\n",
    "        if stopfunc:\n",
    "            fa = stopfunc(y[-1], t[-1], *stopargs)\n",
    "            fb = stopfunc(y[-1] + delta_yf, t[-1] + stepsize, *stopargs)\n",
    "            if fb < 0:\n",
    "                \n",
    "                def minimizer(dt):\n",
    "                    delta_yf, _ = iteration(f, y[-1], t[-1], dt, args=args)\n",
    "                    return stopfunc(y[-1] + delta_yf, t[-1] + dt, *stopargs)\n",
    "                \n",
    "                stepsize = minimize(minimizer, 0, stepsize, \n",
    "                                    fa, fb, stop_error_tolerance)\n",
    "                \n",
    "                delta_yf, _ = iteration(f, y[-1], t[-1], stepsize, args=args)\n",
    "                y.append(y[-1] + delta_yf)\n",
    "                t.append(t[-1]+stepsize)\n",
    "                if return_error:\n",
    "                    errors.append(l_inf_err)\n",
    "                break\n",
    "     \n",
    "        y.append(y[-1] + delta_yf)\n",
    "        t.append(t[-1]+stepsize)\n",
    "        if return_error:\n",
    "            errors.append(l_inf_err)\n",
    "        stepsize=new_stepsize\n",
    "        \n",
    "    Y = np.array(y)\n",
    "    T = np.array(t)\n",
    "    if return_error:\n",
    "        return Y, T, np.array(errors)\n",
    "    else:\n",
    "        return Y, T"
   ]
  },
  {
   "cell_type": "code",
   "execution_count": 182,
   "metadata": {
    "collapsed": false
   },
   "outputs": [],
   "source": [
    "def w_body_frame(w, t, I1, I2, I3):\n",
    "    \"\"\"The derivative of w in the body frame\"\"\"\n",
    "    return np.array([(I2-I3)/I1*w[1]*w[2],\n",
    "                     (I3-I1)/I2*w[2]*w[0],\n",
    "                     (I1-I2)/I3*w[0]*w[1]])"
   ]
  },
  {
   "cell_type": "code",
   "execution_count": 159,
   "metadata": {
    "collapsed": true
   },
   "outputs": [],
   "source": [
    "def stopfunc(w, t, winit, tmin, wprime_init, weps):\n",
    "    \"\"\"If t > 1.0, and w and winit are close to each other,\n",
    "    then keep track of the projection of the difference\n",
    "    between w and winit onto the initial derivative.\n",
    "    This will be positive when the angular momentum is\n",
    "    \"behind\" the initial point and negative when it is \n",
    "    in front, satisfying the stopping function\n",
    "    condition.\"\"\"\n",
    "    if (t > tmin) and np.linalg.norm(w-winit) < weps:\n",
    "        return np.dot(wprime_init, winit-w)\n",
    "    else:\n",
    "        return 10.0"
   ]
  },
  {
   "cell_type": "markdown",
   "metadata": {},
   "source": [
    "## Performing the Integration\n",
    "\n",
    "Below we see the integration performed.\n",
    "The initial angular momentum is $\\omega_1 = 1$, $\\omega_2 = 1$, $\\omega_3 = 0.9$.\n",
    "The principal axes of angular momentum is $I_{11} = 1$, $I_{22} = 2$, $I_{33} = 3$.\n",
    "We also show the point at which integration stopped.\n",
    "\n",
    "We set our tolerance to be to the 9th decimal place so that we can get 8 significant digits."
   ]
  },
  {
   "cell_type": "code",
   "execution_count": 263,
   "metadata": {
    "collapsed": false
   },
   "outputs": [],
   "source": [
    "w0 = np.array([1.0, 1.0, 0.9])\n",
    "I1, I2, I3 = 1,2,3\n",
    "Y, T, errors = integrator(w_body_frame, \n",
    "           w0, \n",
    "           7.5,\n",
    "           args=(I1, I2, I3),\n",
    "           step_error_tolerance=1e-9,\n",
    "           stopfunc=stopfunc,\n",
    "           stop_error_tolerance=1e-9,\n",
    "           stopargs=(w0, 1.0, w_body_frame(w0, 0, I1, I2, I3), 1.0),\n",
    "           return_error=True)"
   ]
  },
  {
   "cell_type": "code",
   "execution_count": 271,
   "metadata": {
    "collapsed": false
   },
   "outputs": [
    {
     "data": {
      "text/plain": [
       "<matplotlib.text.Text at 0x7f522860c050>"
      ]
     },
     "execution_count": 271,
     "metadata": {},
     "output_type": "execute_result"
    },
    {
     "data": {
      "image/png": "[encoded data removed]",
      "text/plain": [
       "<matplotlib.figure.Figure at 0x7f522912a450>"
      ]
     },
     "metadata": {},
     "output_type": "display_data"
    }
   ],
   "source": [
    "plt.figure(dpi=600)\n",
    "plt.plot(T, Y[:,0], marker='x', label=r\"$\\omega_1$\")\n",
    "plt.plot(T, Y[:,1], marker='x', label=r\"$\\omega_2$\")\n",
    "plt.plot(T, Y[:,2], marker='x', label=r\"$\\omega_3$\")\n",
    "plt.legend(loc=\"lower left\")\n",
    "plt.grid(True)\n",
    "plt.title(r\"One Period of Precession ($T={:1.8f}$)\".format(T[-1]))"
   ]
  },
  {
   "cell_type": "code",
   "execution_count": 272,
   "metadata": {
    "collapsed": false
   },
   "outputs": [
    {
     "data": {
      "text/plain": [
       "<matplotlib.text.Text at 0x7f52263f9710>"
      ]
     },
     "execution_count": 272,
     "metadata": {},
     "output_type": "execute_result"
    },
    {
     "data": {
      "image/png": "[encoded data removed]",
      "text/plain": [
       "<matplotlib.figure.Figure at 0x7f5228a08050>"
      ]
     },
     "metadata": {},
     "output_type": "display_data"
    }
   ],
   "source": [
    "plt.plot((T[:-1] + T[1:])/2.0, T[1:] - T[:-1])\n",
    "plt.axis([0, 8, 0, 0.07])\n",
    "plt.grid(True)\n",
    "plt.xlabel(\"Time\")\n",
    "plt.ylabel(\"Stepsize\")\n",
    "plt.title(\"Adaptive Stepsize as a function of Time\")"
   ]
  },
  {
   "cell_type": "markdown",
   "metadata": {},
   "source": [
    "### Period"
   ]
  },
  {
   "cell_type": "code",
   "execution_count": 194,
   "metadata": {
    "collapsed": false
   },
   "outputs": [
    {
     "name": "stdout",
     "output_type": "stream",
     "text": [
      "T = 7.36028204\n"
     ]
    }
   ],
   "source": [
    "# the final period\n",
    "print(\"T = {:1.8f}\".format(T[-1]))"
   ]
  },
  {
   "cell_type": "markdown",
   "metadata": {},
   "source": [
    "Now, to get the basis vectors as a function of time, we note that $\\dot{\\hat{i}} = \\omega_\\text{LAB} \\times \\hat{i}$.  Since $\\omega_\\text{LAB} = \\omega_1 \\hat{1} + \\omega_2 \\hat{2} + \\omega_3 \\hat{3}$,\n",
    "\n",
    "\\begin{align}\n",
    "\\dot{\\hat{1}} & = - \\omega_2 \\hat{3} + \\omega_3 \\hat{2} \\\\\n",
    "\\dot{\\hat{2}} & = - \\omega_3 \\hat{1} + \\omega_1 \\hat{3} \\\\\n",
    "\\dot{\\hat{3}} & = - \\omega_1 \\hat{2} + \\omega_2 \\hat{1} \n",
    "\\end{align}"
   ]
  },
  {
   "cell_type": "markdown",
   "metadata": {},
   "source": [
    "We can interpolate the $\\omega$'s from our previous solution, and integrate."
   ]
  },
  {
   "cell_type": "code",
   "execution_count": 202,
   "metadata": {
    "collapsed": false
   },
   "outputs": [],
   "source": [
    "w1 = interp1d(T, Y[:,0], kind=\"cubic\")\n",
    "w2 = interp1d(T, Y[:,1], kind=\"cubic\")\n",
    "w3 = interp1d(T, Y[:,2], kind=\"cubic\")"
   ]
  },
  {
   "cell_type": "code",
   "execution_count": 212,
   "metadata": {
    "collapsed": true
   },
   "outputs": [],
   "source": [
    "def basis_vector_derivs(y,t, w1, w2, w3):\n",
    "    pa1 = y[:3]\n",
    "    pa2 = y[3:6]\n",
    "    pa3 = y[6:]\n",
    "    \n",
    "    pa1dot = w3(t)*pa2 - w2(t)*pa3\n",
    "    pa2dot = w1(t)*pa3 - w3(t)*pa1\n",
    "    pa3dot = w2(t)*pa1 - w1(t)*pa2\n",
    "    \n",
    "    return np.append(pa1dot, \n",
    "                      np.append(pa2dot, pa3dot))"
   ]
  },
  {
   "cell_type": "code",
   "execution_count": 217,
   "metadata": {
    "collapsed": false
   },
   "outputs": [],
   "source": [
    "BasisVectors, Tvecs = integrator(basis_vector_derivs,\n",
    "                                 np.append([1.0,0,0],\n",
    "                                    np.append([0,1.0,0],\n",
    "                                            [0,0,1.0])),\n",
    "                                 T[-1],\n",
    "                                 args=(w1, w2, w3))"
   ]
  },
  {
   "cell_type": "code",
   "execution_count": 221,
   "metadata": {
    "collapsed": false
   },
   "outputs": [],
   "source": [
    "U = np.reshape(BasisVectors[-1,:], (3,3))"
   ]
  },
  {
   "cell_type": "code",
   "execution_count": 224,
   "metadata": {
    "collapsed": false
   },
   "outputs": [
    {
     "data": {
      "text/plain": [
       "array([[-0.88816083, -0.30741115,  0.34156794],\n",
       "       [ 0.30741108,  0.15502213,  0.93886449],\n",
       "       [-0.34156801,  0.93886446, -0.04318296]])"
      ]
     },
     "execution_count": 224,
     "metadata": {},
     "output_type": "execute_result"
    }
   ],
   "source": [
    "U"
   ]
  },
  {
   "cell_type": "markdown",
   "metadata": {},
   "source": [
    "### Basis Vectors"
   ]
  },
  {
   "cell_type": "code",
   "execution_count": 238,
   "metadata": {
    "collapsed": false
   },
   "outputs": [
    {
     "name": "stdout",
     "output_type": "stream",
     "text": [
      "1 = [-0.88816083 -0.30741115  0.34156794]\n",
      "2 = [ 0.30741108  0.15502213  0.93886449]\n",
      "3 = [-0.34156801  0.93886446 -0.04318296]\n"
     ]
    }
   ],
   "source": [
    "print(\"1 = {}\".format(U[0,:]))\n",
    "print(\"2 = {}\".format(U[1,:]))\n",
    "print(\"3 = {}\".format(U[2,:]))"
   ]
  },
  {
   "cell_type": "markdown",
   "metadata": {},
   "source": [
    "We can see that our errors for $U$ are on the order of $1e-9$"
   ]
  },
  {
   "cell_type": "code",
   "execution_count": 223,
   "metadata": {
    "collapsed": false
   },
   "outputs": [
    {
     "data": {
      "text/plain": [
       "array([[  9.99999929e-01,   7.89619398e-09,   7.99166903e-09],\n",
       "       [  7.89619398e-09,   9.99999964e-01,   3.26555834e-08],\n",
       "       [  7.99166903e-09,   3.26555834e-08,   9.99999958e-01]])"
      ]
     },
     "execution_count": 223,
     "metadata": {},
     "output_type": "execute_result"
    }
   ],
   "source": [
    "np.dot(U,U.T)"
   ]
  },
  {
   "cell_type": "markdown",
   "metadata": {},
   "source": [
    "### Rotation Angle after 1 period"
   ]
  },
  {
   "cell_type": "markdown",
   "metadata": {},
   "source": [
    "Note that $\\text{Tr} U = 1 + 2 \\cos \\theta$, such that:\n",
    "\n",
    "\\begin{align}\n",
    "\\cos \\theta & = \\frac{1 - \\text{Tr} U}{2}\n",
    "\\end{align}"
   ]
  },
  {
   "cell_type": "code",
   "execution_count": 239,
   "metadata": {
    "collapsed": false
   },
   "outputs": [
    {
     "name": "stdout",
     "output_type": "stream",
     "text": [
      "The object rotates 50.887867 degrees\n"
     ]
    }
   ],
   "source": [
    "theta = (1-np.trace(U))/2.0\n",
    "print(\"The object rotates {:2.6f} degrees\".format(180*theta/np.pi))"
   ]
  },
  {
   "cell_type": "code",
   "execution_count": null,
   "metadata": {
    "collapsed": true
   },
   "outputs": [],
   "source": []
  }
 ],
 "metadata": {
  "kernelspec": {
   "display_name": "Python 2",
   "language": "python",
   "name": "python2"
  },
  "language_info": {
   "codemirror_mode": {
    "name": "ipython",
    "version": 2
   },
   "file_extension": ".py",
   "mimetype": "text/x-python",
   "name": "python",
   "nbconvert_exporter": "python",
   "pygments_lexer": "ipython2",
   "version": "2.7.6"
  }
 },
 "nbformat": 4,
 "nbformat_minor": 0
}
